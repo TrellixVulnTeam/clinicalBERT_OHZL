{
 "cells": [
  {
   "cell_type": "code",
   "execution_count": 1,
   "metadata": {},
   "outputs": [],
   "source": [
    "from textaugment import EDA\n",
    "import pandas as pd\n",
    "import nltk\n",
    "\n",
    "def augment_text(text):\n",
    "    text = text.split('.')\n",
    "    result = []\n",
    "    for sentence in text:\n",
    "        try:\n",
    "            sentence = aug.synonym_replacement(sentence)\n",
    "            sentence = aug.random_swap(sentence)\n",
    "            result.append(sentence)\n",
    "        except:\n",
    "            result.append(sentence)\n",
    "    return '. '.join(result)\n",
    "\n",
    "STOPWORDS = nltk.corpus.stopwords.words('english')\n",
    "aug = EDA(stop_words=STOPWORDS, random_state=42)\n",
    "\n",
    "train_df_early = pd.read_csv('./data/3days/train.csv')\n",
    "train_df_discharge = pd.read_csv('./data/discharge/train.csv')"
   ]
  },
  {
   "cell_type": "code",
   "execution_count": 2,
   "metadata": {},
   "outputs": [
    {
     "name": "stdout",
     "output_type": "stream",
     "text": [
      "47793rows added via data augmentation. [early readmission task - training set]\n",
      "0    have of significant syndicate history a cancer...\n",
      "1    communications per protocol. the wife & family...\n",
      "2    9/ her bilirubin on was 0/8; four hours later ...\n",
      "3    to pna re-current hemoptysis and dyspnoea whil...\n",
      "4    effusion information: indication: pericardiac ...\n",
      "Name: TEXT, dtype: object\n",
      "47793    have of significant syndicate history a cancer...\n",
      "47794    communications per protocol. the wife & family...\n",
      "47795    9/ her bilirubin on was 0/8; four hours later ...\n",
      "47796    to pna re-current hemoptysis and dyspnoea whil...\n",
      "47797    effusion information: indication: pericardiac ...\n",
      "Name: TEXT, dtype: object\n",
      "26245rows added via data augmentation. [discharge readmission task - training set]\n",
      "0    significant of have syndicate history a genus ...\n",
      "1    per communication protocol. social: wife & fam...\n",
      "2    9/ was bilirubin on her 0/8; four hours later ...\n",
      "3    to pna dyspnoea hemoptysis and re-current whil...\n",
      "4    effusion indication: information: pericardial ...\n",
      "Name: TEXT, dtype: object\n",
      "26245    significant of have syndicate history a genus ...\n",
      "26246    per communication protocol. social: wife & fam...\n",
      "26247    9/ was bilirubin on her 0/8; four hours later ...\n",
      "26248    to pna dyspnoea hemoptysis and re-current whil...\n",
      "26249    effusion indication: information: pericardial ...\n",
      "Name: TEXT, dtype: object\n"
     ]
    }
   ],
   "source": [
    "train_df_early_aug = train_df_early\n",
    "train_df_discharge_aug = train_df_discharge\n",
    "\n",
    "train_df_early_aug['TEXT'] = train_df_early['TEXT'].apply(augment_text) \n",
    "train_df_discharge_aug['TEXT'] = train_df_early['TEXT'].apply(augment_text)\n",
    "\n",
    "orig = len(train_df_early)\n",
    "train_df_early = pd.concat([train_df_early, train_df_early_aug], ignore_index=True, sort=True)\n",
    "print(str(len(train_df_early)-orig) + 'rows added via data augmentation. [early readmission task - training set]')\n",
    "print(train_df_early[:5]['TEXT'])\n",
    "print(train_df_early[orig:orig+5]['TEXT'])\n",
    "\n",
    "\n",
    "orig = len(train_df_discharge)\n",
    "train_df_discharge = pd.concat([train_df_discharge, train_df_discharge_aug], ignore_index=True, sort=True)\n",
    "print(str(len(train_df_discharge)-orig) + 'rows added via data augmentation. [discharge readmission task - training set]')\n",
    "print(train_df_discharge[:5]['TEXT'])\n",
    "print(train_df_discharge[orig:orig+5]['TEXT'])"
   ]
  },
  {
   "cell_type": "code",
   "execution_count": 3,
   "metadata": {
    "scrolled": true
   },
   "outputs": [],
   "source": [
    "train_df_early.to_csv('./data/aug_early/train.csv')\n",
    "train_df_discharge.to_csv('./data/aug_discharge/train.csv')"
   ]
  },
  {
   "cell_type": "code",
   "execution_count": null,
   "metadata": {},
   "outputs": [],
   "source": []
  }
 ],
 "metadata": {
  "kernelspec": {
   "display_name": "Python 3",
   "language": "python",
   "name": "python3"
  },
  "language_info": {
   "codemirror_mode": {
    "name": "ipython",
    "version": 3
   },
   "file_extension": ".py",
   "mimetype": "text/x-python",
   "name": "python",
   "nbconvert_exporter": "python",
   "pygments_lexer": "ipython3",
   "version": "3.8.0"
  }
 },
 "nbformat": 4,
 "nbformat_minor": 2
}
