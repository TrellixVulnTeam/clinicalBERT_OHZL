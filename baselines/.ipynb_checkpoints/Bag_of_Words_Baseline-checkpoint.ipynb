{
 "cells": [
  {
   "cell_type": "markdown",
   "metadata": {},
   "source": [
    "## Bag of Words Baseline Model\n",
    "Uses CountVectorizer embeddings as input for a Logistic Regression model using L2 regularization. This model establishes a robust baseline performance to compare against for our ClinicalBERT models, just as the authors suggested."
   ]
  },
  {
   "cell_type": "code",
   "execution_count": 1,
   "metadata": {},
   "outputs": [],
   "source": [
    "import pandas as pd\n",
    "from nltk import word_tokenize\n",
    "import string, sys, os\n",
    "from nltk.corpus import stopwords\n",
    "from sklearn.feature_extraction.text import CountVectorizer\n",
    "from sklearn.linear_model import LogisticRegression\n",
    "from sklearn.metrics import accuracy_score\n",
    "from run_readmission import *\n",
    "\n",
    "stop = list(stopwords.words('english'))\n",
    "\n",
    "timepoints = ['early', 'discharge']"
   ]
  },
  {
   "cell_type": "markdown",
   "metadata": {},
   "source": [
    "#### Evaluation Metrics"
   ]
  },
  {
   "cell_type": "code",
   "execution_count": 2,
   "metadata": {},
   "outputs": [],
   "source": [
    "def vote_score(df, score, readmission_mode, output_dir):\n",
    "    df['pred_score'] = score\n",
    "    df_sort = df.sort_values(by=['ID'])\n",
    "    #score \n",
    "    temp = (df_sort.groupby(['ID'])['pred_score'].agg(max)+df_sort.groupby(['ID'])['pred_score'].agg(sum)/2)/(1+df_sort.groupby(['ID'])['pred_score'].agg(len)/2)\n",
    "    x = df_sort.groupby(['ID'])['Label'].agg(np.min).values\n",
    "    df_out = pd.DataFrame({'logits': temp.values, 'ID': x})\n",
    "\n",
    "    fpr, tpr, thresholds = roc_curve(x, temp.values)\n",
    "    auc_score = auc(fpr, tpr)\n",
    "\n",
    "    plt.figure(1)\n",
    "    plt.plot([0, 1], [0, 1], 'k--')\n",
    "    plt.plot(fpr, tpr, label='Val (area = {:.3f})'.format(auc_score))\n",
    "    plt.xlabel('False positive rate')\n",
    "    plt.ylabel('True positive rate')\n",
    "    plt.title('ROC curve')\n",
    "    plt.legend(loc='best')\n",
    "    string = 'auroc_bow_'+readmission_mode+'.png'\n",
    "    plt.savefig(os.path.join(output_dir, string))\n",
    "    plt.close('all')\n",
    "\n",
    "    return fpr, tpr, df_out\n",
    "    \n",
    "def pr_curve_plot(y, y_score, readmission_mode, output_dir):\n",
    "    precision, recall, _ = precision_recall_curve(y, y_score)\n",
    "    area = auc(recall,precision)\n",
    "    step_kwargs = ({'step': 'post'}\n",
    "                   if 'step' in signature(plt.fill_between).parameters\n",
    "                   else {})\n",
    "    \n",
    "    plt.figure(2)\n",
    "    plt.step(recall, precision, color='b', alpha=0.2,\n",
    "             where='post')\n",
    "    plt.fill_between(recall, precision, alpha=0.2, color='b', **step_kwargs)\n",
    "    plt.xlabel('Recall')\n",
    "    plt.ylabel('Precision')\n",
    "    plt.ylim([0.0, 1.05])\n",
    "    plt.xlim([0.0, 1.0])\n",
    "    plt.title('Precision-Recall curve: AUC={0:0.2f}'.format(\n",
    "              area))\n",
    "    \n",
    "    string = 'auprc_bow_'+readmission_mode+'.png'\n",
    "    plt.savefig(os.path.join(output_dir, string))\n",
    "    plt.close('all')\n",
    "    \n",
    "def vote_pr_curve(df, score, readmission_mode, output_dir):\n",
    "    df['pred_score'] = score\n",
    "    df_sort = df.sort_values(by=['ID'])\n",
    "    #score \n",
    "    temp = (df_sort.groupby(['ID'])['pred_score'].agg(max)+df_sort.groupby(['ID'])['pred_score'].agg(sum)/2)/(1+df_sort.groupby(['ID'])['pred_score'].agg(len)/2)\n",
    "    y = df_sort.groupby(['ID'])['Label'].agg(np.min).values\n",
    "    \n",
    "    precision, recall, thres = precision_recall_curve(y, temp)\n",
    "    pr_thres = pd.DataFrame(data =  list(zip(precision, recall, thres)), columns = ['prec','recall','thres'])\n",
    "    vote_df = pd.DataFrame(data =  list(zip(temp, y)), columns = ['score','label'])\n",
    "    \n",
    "    pr_curve_plot(y, temp, readmission_mode, output_dir)\n",
    "    \n",
    "    temp = pr_thres[pr_thres.prec > 0.799999].reset_index()\n",
    "    \n",
    "    rp80 = 0\n",
    "    if temp.size == 0:\n",
    "        print('Test Sample too small or RP80=0')\n",
    "    else:\n",
    "        rp80 = temp.iloc[0].recall\n",
    "        print('Recall at Precision of 80 is {}', rp80)\n",
    "\n",
    "    return rp80"
   ]
  },
  {
   "cell_type": "markdown",
   "metadata": {},
   "source": [
    "#### CountVectorizer Embeddings --> Logistic Regression Model "
   ]
  },
  {
   "cell_type": "code",
   "execution_count": 3,
   "metadata": {},
   "outputs": [
    {
     "name": "stderr",
     "output_type": "stream",
     "text": [
      "/Library/Frameworks/Python.framework/Versions/3.8/lib/python3.8/site-packages/sklearn/feature_extraction/text.py:507: UserWarning: The parameter 'token_pattern' will not be used since 'tokenizer' is not None'\n",
      "  warnings.warn(\"The parameter 'token_pattern' will not be used\"\n"
     ]
    },
    {
     "name": "stdout",
     "output_type": "stream",
     "text": [
      "Training completed. Number of parameters: 15\n",
      "[0.48229836 0.56906856 0.55412124 ... 0.47267605 0.35944838 0.43165818]\n"
     ]
    },
    {
     "name": "stderr",
     "output_type": "stream",
     "text": [
      "04/16/2022 13:03:24 - INFO - run_readmission -   ***** Eval results *****\n",
      "04/16/2022 13:03:24 - INFO - run_readmission -     RP80 = 0.05776173285198556\n",
      "04/16/2022 13:03:24 - INFO - run_readmission -     eval_accuracy = 0.6050552922590837\n",
      "04/16/2022 13:03:24 - INFO - run_readmission -     eval_loss = N/A\n",
      "04/16/2022 13:03:24 - INFO - run_readmission -     global_step = N/A\n",
      "04/16/2022 13:03:24 - INFO - run_readmission -     training loss = N/A\n"
     ]
    },
    {
     "name": "stdout",
     "output_type": "stream",
     "text": [
      "Recall at Precision of 80 is {} 0.05776173285198556\n",
      "Completed evaluation of baseline Bag-of-Words model for readmission task: early\n"
     ]
    },
    {
     "name": "stderr",
     "output_type": "stream",
     "text": [
      "/Library/Frameworks/Python.framework/Versions/3.8/lib/python3.8/site-packages/sklearn/feature_extraction/text.py:507: UserWarning: The parameter 'token_pattern' will not be used since 'tokenizer' is not None'\n",
      "  warnings.warn(\"The parameter 'token_pattern' will not be used\"\n"
     ]
    },
    {
     "name": "stdout",
     "output_type": "stream",
     "text": [
      "Training completed. Number of parameters: 15\n",
      "[0.47047724 0.43949609 0.46887014 ... 0.51466221 0.410015   0.44151218]\n"
     ]
    },
    {
     "name": "stderr",
     "output_type": "stream",
     "text": [
      "04/16/2022 13:04:45 - INFO - run_readmission -   ***** Eval results *****\n",
      "04/16/2022 13:04:45 - INFO - run_readmission -     RP80 = 0.2103448275862069\n",
      "04/16/2022 13:04:45 - INFO - run_readmission -     eval_accuracy = 0.6111655239960823\n",
      "04/16/2022 13:04:45 - INFO - run_readmission -     eval_loss = N/A\n",
      "04/16/2022 13:04:45 - INFO - run_readmission -     global_step = N/A\n",
      "04/16/2022 13:04:45 - INFO - run_readmission -     training loss = N/A\n"
     ]
    },
    {
     "name": "stdout",
     "output_type": "stream",
     "text": [
      "Recall at Precision of 80 is {} 0.2103448275862069\n",
      "Completed evaluation of baseline Bag-of-Words model for readmission task: discharge\n"
     ]
    }
   ],
   "source": [
    "def tokenizer_better(text):    \n",
    "    punc_list = string.punctuation+'0123456789'\n",
    "    t = str.maketrans(dict.fromkeys(punc_list, \" \"))\n",
    "    text = text.lower().translate(t)\n",
    "    tokens = word_tokenize(text)\n",
    "    return tokens\n",
    "\n",
    "for timepoint in timepoints:\n",
    "    readmission_mode = 'discharge' if timepoint == 'discharge' else 'early'\n",
    "    if timepoint == 'discharge':\n",
    "        df_train = pd.read_csv('data/discharge/train.csv')\n",
    "        df_test = pd.read_csv('data/discharge/test.csv')\n",
    "    else: \n",
    "        df_train = pd.read_csv('data/3days/train.csv')\n",
    "        df_test = pd.read_csv('data/2days/test.csv').append(pd.read_csv('data/3days/test.csv'))\n",
    "    vect = CountVectorizer(max_features = 5000, stop_words = stop, tokenizer = tokenizer_better)\n",
    "    vect.fit(df_train['TEXT'].values)\n",
    "\n",
    "    X_train_tf = vect.transform(df_train.TEXT.values)\n",
    "    X_test_tf = vect.transform(df_test.TEXT.values)\n",
    "\n",
    "    y_train = df_train.Label\n",
    "    y_test = df_test.Label\n",
    "\n",
    "    clf = LogisticRegression(C = 0.0001, penalty = 'l2', random_state = 42)\n",
    "    clf.fit(X_train_tf, y_train)\n",
    "    print('Training completed. Number of parameters: ' + str(len(clf.get_params().keys())))\n",
    "\n",
    "    model = clf\n",
    "    y_train_preds = model.predict_proba(X_train_tf)[:,1]\n",
    "    y_test_preds = model.predict_proba(X_test_tf)[:,1]\n",
    "    y_test_actual = df_test['Label']\n",
    "    print(y_test_preds)\n",
    "    \n",
    "    output_dir = './results/bow/result_bow_' + readmission_mode\n",
    "\n",
    "    fpr, tpr, df_out = vote_score(df_test, y_test_preds, readmission_mode, output_dir)\n",
    "    rp80 = vote_pr_curve(df_test, y_test_preds, readmission_mode, output_dir)\n",
    "\n",
    "    y_test_pred = [1 if i > 0.5 else 0 for i in y_test_preds]\n",
    "    result = {'eval_loss': 'N/A',\n",
    "              'eval_accuracy': str(accuracy_score(y_test_actual, y_test_pred)),                 \n",
    "              'global_step': 'N/A',\n",
    "              'training loss': 'N/A',\n",
    "              'RP80': rp80}\n",
    "    output_eval_file = os.path.join(output_dir, \"eval_results.txt\")\n",
    "    with open(output_eval_file, \"w\") as writer:\n",
    "        logger.info(\"***** Eval results *****\")\n",
    "        for key in sorted(result.keys()):\n",
    "            logger.info(\"  %s = %s\", key, str(result[key]))\n",
    "            writer.write(\"%s = %s\\n\" % (key, str(result[key])))\n",
    "    print('Completed evaluation of baseline Bag-of-Words model for readmission task: ' + readmission_mode)"
   ]
  },
  {
   "cell_type": "code",
   "execution_count": null,
   "metadata": {},
   "outputs": [],
   "source": []
  }
 ],
 "metadata": {
  "kernelspec": {
   "display_name": "Python 3",
   "language": "python",
   "name": "python3"
  },
  "language_info": {
   "codemirror_mode": {
    "name": "ipython",
    "version": 3
   },
   "file_extension": ".py",
   "mimetype": "text/x-python",
   "name": "python",
   "nbconvert_exporter": "python",
   "pygments_lexer": "ipython3",
   "version": "3.8.0"
  }
 },
 "nbformat": 4,
 "nbformat_minor": 2
}
