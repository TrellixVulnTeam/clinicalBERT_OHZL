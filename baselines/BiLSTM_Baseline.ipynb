{
 "cells": [
  {
   "cell_type": "code",
   "execution_count": 1,
   "metadata": {},
   "outputs": [
    {
     "name": "stderr",
     "output_type": "stream",
     "text": [
      "04/16/2022 13:06:39 - INFO - gensim.utils -   loading Word2VecKeyedVectors object from word2vec.model\n",
      "04/16/2022 13:06:40 - INFO - gensim.utils -   loading wv recursively from word2vec.model.wv.* with mmap=None\n",
      "04/16/2022 13:06:40 - INFO - gensim.utils -   setting ignored attribute vectors_norm to None\n",
      "04/16/2022 13:06:40 - INFO - gensim.utils -   loading vocabulary recursively from word2vec.model.vocabulary.* with mmap=None\n",
      "04/16/2022 13:06:40 - INFO - gensim.utils -   loading trainables recursively from word2vec.model.trainables.* with mmap=None\n",
      "04/16/2022 13:06:40 - INFO - gensim.utils -   setting ignored attribute cum_table to None\n",
      "04/16/2022 13:06:40 - INFO - gensim.utils -   loaded word2vec.model\n",
      "<ipython-input-1-c66b92b88a3f>:23: DeprecationWarning: Call to deprecated `__getitem__` (Method will be removed in 4.0.0, use self.wv.__getitem__() instead).\n",
      "  weights = (m[m.wv.vocab])\n"
     ]
    }
   ],
   "source": [
    "import sys, os, re, csv, codecs, numpy as np, pandas as pd\n",
    "from keras.preprocessing.text import Tokenizer\n",
    "from keras.preprocessing.sequence import pad_sequences\n",
    "from keras.layers import Dense, Input, LSTM, Embedding, Dropout, Activation\n",
    "from keras.layers import Bidirectional, GlobalMaxPool1D\n",
    "from keras.models import Model\n",
    "from keras.models import load_model\n",
    "from keras.callbacks import EarlyStopping, ModelCheckpoint\n",
    "from keras import initializers, regularizers, constraints, optimizers, layers\n",
    "\n",
    "from sklearn.metrics import roc_curve\n",
    "from sklearn.metrics import auc\n",
    "from sklearn.metrics import precision_recall_curve\n",
    "import matplotlib.pyplot as plt\n",
    "from sklearn.metrics import average_precision_score\n",
    "from sklearn.metrics import accuracy_score\n",
    "\n",
    "from run_readmission import *\n",
    "\n",
    "import gensim\n",
    "\n",
    "m = gensim.models.KeyedVectors.load('word2vec.model')\n",
    "weights = (m[m.wv.vocab])\n",
    "\n",
    "max_words_count = 44082\n",
    "embedding_size = 100\n",
    "max_words_length = 318"
   ]
  },
  {
   "cell_type": "code",
   "execution_count": 2,
   "metadata": {},
   "outputs": [],
   "source": [
    "def vote_score(df, score, readmission_mode, output_dir):\n",
    "    df['pred_score'] = score\n",
    "    df_sort = df.sort_values(by=['ID'])\n",
    "    #score \n",
    "    temp = (df_sort.groupby(['ID'])['pred_score'].agg(max)+df_sort.groupby(['ID'])['pred_score'].agg(sum)/2)/(1+df_sort.groupby(['ID'])['pred_score'].agg(len)/2)\n",
    "    x = df_sort.groupby(['ID'])['Label'].agg(np.min).values\n",
    "    df_out = pd.DataFrame({'logits': temp.values, 'ID': x})\n",
    "\n",
    "    fpr, tpr, thresholds = roc_curve(x, temp.values)\n",
    "    auc_score = auc(fpr, tpr)\n",
    "\n",
    "    plt.figure(1)\n",
    "    plt.plot([0, 1], [0, 1], 'k--')\n",
    "    plt.plot(fpr, tpr, label='Val (area = {:.3f})'.format(auc_score))\n",
    "    plt.xlabel('False positive rate')\n",
    "    plt.ylabel('True positive rate')\n",
    "    plt.title('ROC curve')\n",
    "    plt.legend(loc='best')\n",
    "    string = 'auroc_bilstm_'+readmission_mode+'.png'\n",
    "    plt.savefig(os.path.join(output_dir, string))\n",
    "    plt.close('all')\n",
    "\n",
    "    return fpr, tpr, df_out\n",
    "    \n",
    "def pr_curve_plot(y, y_score, readmission_mode, output_dir):\n",
    "    precision, recall, _ = precision_recall_curve(y, y_score)\n",
    "    area = auc(recall,precision)\n",
    "    step_kwargs = ({'step': 'post'}\n",
    "                   if 'step' in signature(plt.fill_between).parameters\n",
    "                   else {})\n",
    "    \n",
    "    plt.figure(2)\n",
    "    plt.step(recall, precision, color='b', alpha=0.2,\n",
    "             where='post')\n",
    "    plt.fill_between(recall, precision, alpha=0.2, color='b', **step_kwargs)\n",
    "    plt.xlabel('Recall')\n",
    "    plt.ylabel('Precision')\n",
    "    plt.ylim([0.0, 1.05])\n",
    "    plt.xlim([0.0, 1.0])\n",
    "    plt.title('Precision-Recall curve: AUC={0:0.2f}'.format(\n",
    "              area))\n",
    "    \n",
    "    string = 'auprc_bilstm_'+readmission_mode+'.png'\n",
    "    plt.savefig(os.path.join(output_dir, string))\n",
    "    plt.close('all')\n",
    "    \n",
    "def vote_pr_curve(df, score, readmission_mode, output_dir):\n",
    "    df['pred_score'] = score\n",
    "    df_sort = df.sort_values(by=['ID'])\n",
    "    #score \n",
    "    temp = (df_sort.groupby(['ID'])['pred_score'].agg(max)+df_sort.groupby(['ID'])['pred_score'].agg(sum)/2)/(1+df_sort.groupby(['ID'])['pred_score'].agg(len)/2)\n",
    "    y = df_sort.groupby(['ID'])['Label'].agg(np.min).values\n",
    "    \n",
    "    precision, recall, thres = precision_recall_curve(y, temp)\n",
    "    pr_thres = pd.DataFrame(data =  list(zip(precision, recall, thres)), columns = ['prec','recall','thres'])\n",
    "    vote_df = pd.DataFrame(data =  list(zip(temp, y)), columns = ['score','label'])\n",
    "    \n",
    "    pr_curve_plot(y, temp, readmission_mode, output_dir)\n",
    "    \n",
    "    temp = pr_thres[pr_thres.prec > 0.799999].reset_index()\n",
    "    \n",
    "    rp80 = 0\n",
    "    if temp.size == 0:\n",
    "        print('Test Sample too small or RP80=0')\n",
    "    else:\n",
    "        rp80 = temp.iloc[0].recall\n",
    "        print('Recall at Precision of 80 is {}', rp80)\n",
    "\n",
    "    return rp80\n",
    "\n",
    "def count_parameters(model): \n",
    "    return len(model.get_weights()[0]) * len(model.get_weights())\n"
   ]
  },
  {
   "cell_type": "code",
   "execution_count": 3,
   "metadata": {},
   "outputs": [
    {
     "name": "stderr",
     "output_type": "stream",
     "text": [
      "<ipython-input-3-7cd5c2e7d79c>:31: DeprecationWarning: Call to deprecated `__getitem__` (Method will be removed in 4.0.0, use self.wv.__getitem__() instead).\n",
      "  embed_dict = dict(zip(list(m.wv.vocab), list(m[m.wv.vocab])))\n",
      "/Library/Frameworks/Python.framework/Versions/3.8/lib/python3.8/site-packages/IPython/core/interactiveshell.py:3249: FutureWarning: arrays to stack must be passed as a \"sequence\" type such as list or tuple. Support for non-sequence iterables such as generators is deprecated as of NumPy 1.16 and will raise an error in the future.\n",
      "  if (await self.run_code(code, result,  async_=asy)):\n"
     ]
    },
    {
     "name": "stdout",
     "output_type": "stream",
     "text": [
      "Pre-trained Bi-LSTM model found. Loading model from .h5 file.\n",
      "Training completed. Number of parameters: 484902\n"
     ]
    },
    {
     "name": "stderr",
     "output_type": "stream",
     "text": [
      "04/16/2022 13:11:02 - INFO - run_readmission -   ***** Eval results *****\n",
      "04/16/2022 13:11:02 - INFO - run_readmission -     RP80 = 0.23826714801444043\n",
      "04/16/2022 13:11:02 - INFO - run_readmission -     eval_accuracy = 0.6061084781463928\n",
      "04/16/2022 13:11:02 - INFO - run_readmission -     eval_loss = N/A\n",
      "04/16/2022 13:11:02 - INFO - run_readmission -     global_step = N/A\n",
      "04/16/2022 13:11:02 - INFO - run_readmission -     training loss = N/A\n"
     ]
    },
    {
     "name": "stdout",
     "output_type": "stream",
     "text": [
      "Recall at Precision of 80 is {} 0.23826714801444043\n",
      "Completed evaluation of baseline Bi-LSTM model for readmission task: early\n"
     ]
    },
    {
     "name": "stderr",
     "output_type": "stream",
     "text": [
      "<ipython-input-3-7cd5c2e7d79c>:31: DeprecationWarning: Call to deprecated `__getitem__` (Method will be removed in 4.0.0, use self.wv.__getitem__() instead).\n",
      "  embed_dict = dict(zip(list(m.wv.vocab), list(m[m.wv.vocab])))\n",
      "/Library/Frameworks/Python.framework/Versions/3.8/lib/python3.8/site-packages/IPython/core/interactiveshell.py:3249: FutureWarning: arrays to stack must be passed as a \"sequence\" type such as list or tuple. Support for non-sequence iterables such as generators is deprecated as of NumPy 1.16 and will raise an error in the future.\n",
      "  if (await self.run_code(code, result,  async_=asy)):\n"
     ]
    },
    {
     "name": "stdout",
     "output_type": "stream",
     "text": [
      "Pre-trained Bi-LSTM model found. Loading model from .h5 file.\n",
      "Training completed. Number of parameters: 484902\n"
     ]
    },
    {
     "name": "stderr",
     "output_type": "stream",
     "text": [
      "04/16/2022 13:13:31 - INFO - run_readmission -   ***** Eval results *****\n",
      "04/16/2022 13:13:31 - INFO - run_readmission -     RP80 = 0.15517241379310345\n",
      "04/16/2022 13:13:31 - INFO - run_readmission -     eval_accuracy = 0.6160626836434868\n",
      "04/16/2022 13:13:31 - INFO - run_readmission -     eval_loss = N/A\n",
      "04/16/2022 13:13:31 - INFO - run_readmission -     global_step = N/A\n",
      "04/16/2022 13:13:31 - INFO - run_readmission -     training loss = N/A\n"
     ]
    },
    {
     "name": "stdout",
     "output_type": "stream",
     "text": [
      "Recall at Precision of 80 is {} 0.15517241379310345\n",
      "Completed evaluation of baseline Bi-LSTM model for readmission task: discharge\n"
     ]
    }
   ],
   "source": [
    "timepoints = ['early', 'discharge']\n",
    "\n",
    "for timepoint in timepoints:\n",
    "    readmission_mode = 'discharge' if timepoint == 'discharge' else 'early'\n",
    "    if timepoint == 'discharge':\n",
    "        df_train = pd.read_csv('data/discharge/train.csv')\n",
    "        df_val = pd.read_csv('data/discharge/val.csv')\n",
    "        df_test = pd.read_csv('data/discharge/test.csv')\n",
    "    else: \n",
    "        df_train = pd.read_csv('data/3days/train.csv')\n",
    "        df_val = pd.read_csv('data/3days/val.csv')\n",
    "        df_test = pd.read_csv('data/2days/test.csv').append(pd.read_csv('data/3days/test.csv'))\n",
    "    sent_train = df_train['TEXT']\n",
    "    y_train = df_train['Label']\n",
    "    sent_val = df_val['TEXT']\n",
    "    y_val = df_val['Label']\n",
    "    sent_test = df_test['TEXT']\n",
    "    y_test = df_test['Label']\n",
    "\n",
    "    tokenizer = Tokenizer(num_words=max_words_count)\n",
    "    tokenizer.fit_on_texts(sent_train)\n",
    "    tokens_train = tokenizer.texts_to_sequences(sent_train)\n",
    "    tokens_val = tokenizer.texts_to_sequences(sent_val)\n",
    "    tokens_test = tokenizer.texts_to_sequences(sent_test)\n",
    "\n",
    "    x_train = pad_sequences(tokens_train, maxlen=max_words_length)\n",
    "    x_val = pad_sequences(tokens_val, maxlen=max_words_length)\n",
    "    x_test = pad_sequences(tokens_test, maxlen=max_words_length)\n",
    "\n",
    "    word_idx = tokenizer.word_index\n",
    "    embed_dict = dict(zip(list(m.wv.vocab), list(m[m.wv.vocab])))\n",
    "    all_embs = np.stack(embed_dict.values())\n",
    "    emb_mean, emb_std = all_embs.mean(), all_embs.std()\n",
    "    embedding_matrix = np.random.normal(emb_mean, emb_std, (max_words_count, embedding_size))\n",
    "    for word, j in word_idx.items():\n",
    "        if j < max_words_count:\n",
    "            vec_temp = embed_dict.get(word)\n",
    "            if vec_temp is not None:\n",
    "                embedding_matrix[j] = vec_temp\n",
    "    \n",
    "    if os.path.exists('./bilstm_models/best_model_' + readmission_mode + '.h5'):\n",
    "        print('Pre-trained Bi-LSTM model found. Loading model from .h5 file.')\n",
    "        model = load_model('./bilstm_models/best_model_' + readmission_mode + '.h5')\n",
    "    else:\n",
    "        print('Pre-trained Bi-LSTM model not found. Training new model.')\n",
    "        inp = Input(shape=(max_words_length,))\n",
    "        x = Embedding(max_words_count, embedding_size, weights=[embedding_matrix])(inp)\n",
    "        x = Bidirectional(LSTM(embedding_size, return_sequences=True, dropout=0.1, recurrent_dropout=0.1))(x)\n",
    "        x = GlobalMaxPool1D()(x)\n",
    "        x = Dense(50, activation=\"relu\")(x)\n",
    "        x = Dropout(0.1)(x)\n",
    "        x = Dense(1, activation=\"sigmoid\")(x)\n",
    "        model = Model(inputs=inp, outputs=x)\n",
    "        model.compile(loss='binary_crossentropy', optimizer='adam', metrics=['mae', 'accuracy'])\n",
    "        save_path = './bilstm_models/best_model_' + readmission_mode + '.h5'\n",
    "        callbacks = [EarlyStopping(monitor='val_loss', patience=2),\n",
    "                     ModelCheckpoint(filepath=save_path, monitor='val_loss', save_best_only=True)]\n",
    "        history = model.fit(x_train, y_train, batch_size=64, epochs=3, callbacks=callbacks, verbose=1,\n",
    "                            validation_data=(x_val, y_val))\n",
    "\n",
    "    print('Training completed. Number of parameters: ' + str(count_parameters(model)))\n",
    "    y_train_preds = model.predict(x_train)\n",
    "    y_test_preds = model.predict(x_test)\n",
    "    y_test_actual = df_test['Label']\n",
    "\n",
    "    output_dir = './results/bilstm/result_bilstm_' + readmission_mode\n",
    "\n",
    "    fpr, tpr, df_out = vote_score(df_test, y_test_preds, readmission_mode, output_dir)\n",
    "    rp80 = vote_pr_curve(df_test, y_test_preds, readmission_mode, output_dir)\n",
    "\n",
    "    y_test_pred = [1 if i > 0.5 else 0 for i in y_test_preds]\n",
    "    result = {'eval_loss': 'N/A',\n",
    "              'eval_accuracy': str(accuracy_score(y_test_actual, y_test_pred)),                 \n",
    "              'global_step': 'N/A',\n",
    "              'training loss': 'N/A',\n",
    "              'RP80': rp80}\n",
    "    output_eval_file = os.path.join(output_dir, \"eval_results.txt\")\n",
    "    with open(output_eval_file, \"w\") as writer:\n",
    "        logger.info(\"***** Eval results *****\")\n",
    "        for key in sorted(result.keys()):\n",
    "            logger.info(\"  %s = %s\", key, str(result[key]))\n",
    "            writer.write(\"%s = %s\\n\" % (key, str(result[key])))\n",
    "    print('Completed evaluation of baseline Bi-LSTM model for readmission task: ' + readmission_mode)"
   ]
  },
  {
   "cell_type": "code",
   "execution_count": null,
   "metadata": {},
   "outputs": [],
   "source": []
  }
 ],
 "metadata": {
  "kernelspec": {
   "display_name": "Python 3",
   "language": "python",
   "name": "python3"
  },
  "language_info": {
   "codemirror_mode": {
    "name": "ipython",
    "version": 3
   },
   "file_extension": ".py",
   "mimetype": "text/x-python",
   "name": "python",
   "nbconvert_exporter": "python",
   "pygments_lexer": "ipython3",
   "version": "3.8.0"
  }
 },
 "nbformat": 4,
 "nbformat_minor": 2
}
